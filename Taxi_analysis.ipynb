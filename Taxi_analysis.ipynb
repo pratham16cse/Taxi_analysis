{
 "cells": [
  {
   "cell_type": "code",
   "execution_count": 31,
   "metadata": {},
   "outputs": [],
   "source": [
    "import pandas as pd\n",
    "import numpy as np\n",
    "import matplotlib.pyplot as plt"
   ]
  },
  {
   "cell_type": "code",
   "execution_count": 2,
   "metadata": {},
   "outputs": [],
   "source": [
    "    data = pd.read_csv('../pp_seq2seq/data/NYUTaxi/Taxi.csv')\n",
    "\n",
    "    # 06/19/2018 08:13:00 AM\n",
    "    # data['tpep_pickup_datetime'] = pd.to_datetime(data['tpep_pickup_datetime'], format = '%m/%d/%Y %I:%M:%S %p')\n",
    "    data['tpep_pickup_datetime'] = pd.to_datetime(data['tpep_pickup_datetime'], format = '%Y-%m-%d %H:%M:%S')\n",
    "    data = data[(data['tpep_pickup_datetime'].dt.year == 2019)]\n",
    "    data['tpep_dropoff_datetime'] = pd.to_datetime(data['tpep_dropoff_datetime'], format = '%Y-%m-%d %H:%M:%S')\n",
    "    data = data[(data['tpep_dropoff_datetime'].dt.year == 2019)]\n",
    "    data['pickup'] = data.tpep_pickup_datetime.values.astype(np.int64) // 10 ** 9\n",
    "    data['dropoff'] = data.tpep_dropoff_datetime.values.astype(np.int64) // 10 ** 9\n",
    "\n",
    "    data['Time'] = data['pickup']\n",
    "    data['loc'] = data['PULocationID']\n",
    "    data['ID1'] = '1'\n",
    "    data['ID2'] = '2'"
   ]
  },
  {
   "cell_type": "code",
   "execution_count": 3,
   "metadata": {},
   "outputs": [
    {
     "data": {
      "text/plain": [
       "0     1546303600\n",
       "1     1546304387\n",
       "7     1546302088\n",
       "8     1546302721\n",
       "9     1546304252\n",
       "10    1546302244\n",
       "11    1546302119\n",
       "12    1546303521\n",
       "13    1546303399\n",
       "14    1546304304\n",
       "15    1546302194\n",
       "16    1546303191\n",
       "17    1546303560\n",
       "18    1546304265\n",
       "19    1546301776\n",
       "20    1546303603\n",
       "21    1546303681\n",
       "22    1546304127\n",
       "23    1546301995\n",
       "24    1546301633\n",
       "Name: Time, dtype: int64"
      ]
     },
     "execution_count": 3,
     "metadata": {},
     "output_type": "execute_result"
    }
   ],
   "source": [
    "data['Time'].head(20)"
   ]
  },
  {
   "cell_type": "code",
   "execution_count": 25,
   "metadata": {},
   "outputs": [],
   "source": [
    "    data1 = pd.DataFrame()\n",
    "    data1['Time'] = data['Time'].append(data['dropoff'], ignore_index=True)\n",
    "    data1['loc'] = data['loc'].append(data['DOLocationID'], ignore_index=True)\n",
    "    data1['ID'] = data['ID1'].append(data['ID2'], ignore_index=True)\n",
    "    data1 = data1.sort_values(['Time'], ascending=True)\n",
    "    data1 = data1.reset_index()"
   ]
  },
  {
   "cell_type": "code",
   "execution_count": 26,
   "metadata": {},
   "outputs": [],
   "source": [
    "#data1['Time'] = data1['Time']-data1['Time'][0]\n",
    "data1_gaps = pd.Series(data1['Time'][1:].values - data1['Time'][:-1].values)\n",
    "\n",
    "data1_grouped = data1.groupby(['loc'])"
   ]
  },
  {
   "cell_type": "code",
   "execution_count": 27,
   "metadata": {},
   "outputs": [],
   "source": [
    "data1_loc = data1[data1['loc']==1].reset_index()\n",
    "\n",
    "data1_loc['gaps'] = pd.Series([0.]+(data1_loc['Time'][1:].values - data1_loc['Time'][:-1].values).tolist())\n",
    "#for d in data1_grouped:\n",
    "#    print(d)\n",
    "#    break"
   ]
  },
  {
   "cell_type": "code",
   "execution_count": 118,
   "metadata": {},
   "outputs": [
    {
     "data": {
      "text/plain": [
       "(array([141., 226., 204., 159., 158., 170., 168., 155., 170., 157., 135.,\n",
       "        163., 126., 127., 132., 142., 129., 124.,  98.,  96., 110., 102.,\n",
       "        118.,  91., 112.,  95., 117., 110.,  89.,  97.,  99.,  95., 110.,\n",
       "         85.,  92.,  86.,  84.,  82.,  84.,  90.,  64.,  75.,  79.,  67.,\n",
       "         66.,  59.,  79.,  65.,  79.,  60.,  75.,  86.,  62.,  60.,  66.,\n",
       "         59.,  78.,  57.,  63.,  57.,  57.,  49.,  54.,  57.,  56.,  52.,\n",
       "         62.,  46.,  68.,  48.,  33.,  55.,  48.,  43.,  49.,  42.,  47.,\n",
       "         25.,  45.,  38.,  51.,  54.,  33.,  44.,  45.,  34.,  42.,  33.,\n",
       "         40.,  41.,  45.,  34.,  51.,  35.,  36.,  18.,  28.,  31.,  30.,\n",
       "         43.,  32.,  31.,  33.,  36.,  26.,  26.,  36.,  21.,  23.,  28.,\n",
       "         35.,  27.,  26.,  26.,  20.,  23.,  20.,  28.,  24.,  31.,  23.,\n",
       "         17.,  25.,  27.,  26.,  23.,  21.,  32.,  24.,  27.,  27.,  28.,\n",
       "         21.,  18.,  23.,  25.,  29.,  25.,  22.,  19.,  20.,  13.,  22.,\n",
       "         13.,  22.,  18.,  14.,  16.,  31.,  24.,  14.,   9.,  22.,  22.,\n",
       "          7.,  24.,  13.,  13.,  16.,  22.,  21.,  18.,  21.,  20.,  12.,\n",
       "         18.,  12.,   7.,  11.,  10.,  10.,  14.,  16.,  19.,  10.,  12.,\n",
       "         18.,  13.,  15.,  10.,  16.,  14.,  13.,  14.,  11.,  13.,  14.,\n",
       "         11.,  12.,  11.,  11.,  11.,  10.,  13.,  16.,   9.,   4.,  15.,\n",
       "         12.,   9.,   7.,   9.,   9.,   9.,  11.,  13.,   8.,   8.,  10.,\n",
       "         19.,   7.,   5.,   7.,   8.,   6.,   9.,   7.,  13.,   6.,   9.,\n",
       "          4.,   7.,   5.,  11.,  10.,  10.,   6.,  10.,   7.,   6.,   5.,\n",
       "          5.,   6.,   7.,   8.,   6.,   8.,   8.,   6.,   6.,   5.,   7.,\n",
       "          7.,   9.,   8.,   8.,   5.,   7.,   6.,   9.,  11.,   5.,   6.,\n",
       "          6.,   6.,   4.,   7.,   9.,   6.,   6.,   8.,   8.,   8.,   7.,\n",
       "          8.,   4.,   2.,   7.,   5.,   1.,   6.,   6.,   3.,   3.,   4.,\n",
       "          3.,   4.,   5.,   2.,   5.,   3.,   3.,   4.,   7.,   6.,   4.,\n",
       "          6.,   6.,  10.,   3.,   4.,   5.,   4.,   6.,   7.,  10.,   2.,\n",
       "          2.,   4.,   5.,   3.,   5.,   5.,   3.,   5.,   4.,   3.,   4.,\n",
       "          1.,   4.,   4.,   2.,   1.,   2.,   2.,   2.,   3.,   2.,   3.,\n",
       "          4.,   3.,   2.,   2.,   3.,   3.,   3.,   3.,   4.,   2.,   2.,\n",
       "          3.,   2.,   5.,   2.,   5.,   6.,   2.,   1.,   5.,   5.,   4.,\n",
       "          5.,   3.,   5.,   0.,   2.,   3.,   0.,   2.,   4.,   1.,   1.,\n",
       "          3.,   3.,   5.,   3.,   0.,   1.,   6.,   2.,   3.,   4.,   3.,\n",
       "          2.,   4.,   4.,   1.,   1.,   1.,   1.,   2.,   3.,   4.,   4.,\n",
       "          0.,   3.,   5.,   3.,   4.,   2.,   2.,   2.,   4.,   2.,   2.,\n",
       "          2.,   1.,   1.,   2.,   1.,   1.,   1.,   0.,   2.,   2.,   2.,\n",
       "          2.,   2.,   8.,   1.,   4.,   1.,   2.,   1.,   5.,   1.,   3.,\n",
       "          1.,   2.,   5.,   1.,   1.,   1.,   0.,   0.,   1.,   2.,   0.,\n",
       "          2.,   1.,   3.,   0.,   2.,   2.,   0.,   2.,   2.,   2.,   2.,\n",
       "          4.,   1.,   4.,   3.,   0.,   0.,   4.,   0.,   2.,   0.,   0.,\n",
       "          0.,   1.,   0.,   1.,   0.,   3.,   0.,   2.,   2.,   4.,   1.,\n",
       "          0.,   1.,   2.,   2.,   1.,   3.,   0.,   0.,   1.,   0.,   1.,\n",
       "          1.,   2.,   2.,   0.,   1.,   0.,   5.,   2.,   2.,   3.,   3.,\n",
       "          2.,   3.,   0.,   1.,   0.,   1.,   2.,   0.,   0.,   0.,   2.,\n",
       "          2.,   1.,   0.,   0.,   3.,   0.,   0.,   2.,   0.,   3.,   2.,\n",
       "          1.,   2.,   1.,   2.]),\n",
       " array([  0,   2,   4,   6,   8,  10,  12,  14,  16,  18,  20,  22,  24,\n",
       "         26,  28,  30,  32,  34,  36,  38,  40,  42,  44,  46,  48,  50,\n",
       "         52,  54,  56,  58,  60,  62,  64,  66,  68,  70,  72,  74,  76,\n",
       "         78,  80,  82,  84,  86,  88,  90,  92,  94,  96,  98, 100, 102,\n",
       "        104, 106, 108, 110, 112, 114, 116, 118, 120, 122, 124, 126, 128,\n",
       "        130, 132, 134, 136, 138, 140, 142, 144, 146, 148, 150, 152, 154,\n",
       "        156, 158, 160, 162, 164, 166, 168, 170, 172, 174, 176, 178, 180,\n",
       "        182, 184, 186, 188, 190, 192, 194, 196, 198, 200, 202, 204, 206,\n",
       "        208, 210, 212, 214, 216, 218, 220, 222, 224, 226, 228, 230, 232,\n",
       "        234, 236, 238, 240, 242, 244, 246, 248, 250, 252, 254, 256, 258,\n",
       "        260, 262, 264, 266, 268, 270, 272, 274, 276, 278, 280, 282, 284,\n",
       "        286, 288, 290, 292, 294, 296, 298, 300, 302, 304, 306, 308, 310,\n",
       "        312, 314, 316, 318, 320, 322, 324, 326, 328, 330, 332, 334, 336,\n",
       "        338, 340, 342, 344, 346, 348, 350, 352, 354, 356, 358, 360, 362,\n",
       "        364, 366, 368, 370, 372, 374, 376, 378, 380, 382, 384, 386, 388,\n",
       "        390, 392, 394, 396, 398, 400, 402, 404, 406, 408, 410, 412, 414,\n",
       "        416, 418, 420, 422, 424, 426, 428, 430, 432, 434, 436, 438, 440,\n",
       "        442, 444, 446, 448, 450, 452, 454, 456, 458, 460, 462, 464, 466,\n",
       "        468, 470, 472, 474, 476, 478, 480, 482, 484, 486, 488, 490, 492,\n",
       "        494, 496, 498, 500, 502, 504, 506, 508, 510, 512, 514, 516, 518,\n",
       "        520, 522, 524, 526, 528, 530, 532, 534, 536, 538, 540, 542, 544,\n",
       "        546, 548, 550, 552, 554, 556, 558, 560, 562, 564, 566, 568, 570,\n",
       "        572, 574, 576, 578, 580, 582, 584, 586, 588, 590, 592, 594, 596,\n",
       "        598, 600, 602, 604, 606, 608, 610, 612, 614, 616, 618, 620, 622,\n",
       "        624, 626, 628, 630, 632, 634, 636, 638, 640, 642, 644, 646, 648,\n",
       "        650, 652, 654, 656, 658, 660, 662, 664, 666, 668, 670, 672, 674,\n",
       "        676, 678, 680, 682, 684, 686, 688, 690, 692, 694, 696, 698, 700,\n",
       "        702, 704, 706, 708, 710, 712, 714, 716, 718, 720, 722, 724, 726,\n",
       "        728, 730, 732, 734, 736, 738, 740, 742, 744, 746, 748, 750, 752,\n",
       "        754, 756, 758, 760, 762, 764, 766, 768, 770, 772, 774, 776, 778,\n",
       "        780, 782, 784, 786, 788, 790, 792, 794, 796, 798, 800, 802, 804,\n",
       "        806, 808, 810, 812, 814, 816, 818, 820, 822, 824, 826, 828, 830,\n",
       "        832, 834, 836, 838, 840, 842, 844, 846, 848, 850, 852, 854, 856,\n",
       "        858, 860, 862, 864, 866, 868, 870, 872, 874, 876, 878, 880, 882,\n",
       "        884, 886, 888, 890, 892, 894, 896, 898, 900, 902, 904, 906, 908,\n",
       "        910, 912, 914, 916, 918, 920, 922, 924, 926, 928, 930, 932, 934,\n",
       "        936, 938, 940, 942, 944, 946, 948, 950, 952, 954, 956, 958, 960,\n",
       "        962, 964, 966, 968, 970, 972, 974, 976, 978, 980, 982, 984, 986,\n",
       "        988, 990, 992, 994, 996, 998]),\n",
       " <a list of 499 Patch objects>)"
      ]
     },
     "execution_count": 118,
     "metadata": {},
     "output_type": "execute_result"
    },
    {
     "data": {
      "image/png": "[encoded data removed]",
      "text/plain": [
       "<Figure size 432x288 with 1 Axes>"
      ]
     },
     "metadata": {
      "needs_background": "light"
     },
     "output_type": "display_data"
    }
   ],
   "source": [
    "gaps = data1_loc['gaps']\n",
    "#bin_edges = range(0, int(max(gaps)+1), 2)\n",
    "bin_edges = range(0, 1000, 2)\n",
    "plt.hist(gaps, bin_edges, edgecolor='black', linewidth=1.)"
   ]
  },
  {
   "cell_type": "code",
   "execution_count": 115,
   "metadata": {},
   "outputs": [
    {
     "data": {
      "text/plain": [
       "[<matplotlib.lines.Line2D at 0x7f6510b409e8>]"
      ]
     },
     "execution_count": 115,
     "metadata": {},
     "output_type": "execute_result"
    },
    {
     "data": {
      "image/png": "[encoded data removed]",
      "text/plain": [
       "<Figure size 432x288 with 1 Axes>"
      ]
     },
     "metadata": {
      "needs_background": "light"
     },
     "output_type": "display_data"
    }
   ],
   "source": [
    "from collections import Counter\n",
    "from operator import itemgetter\n",
    "gaps = data1_loc['gaps']\n",
    "bin_edges = range(0, 1000, 2)\n",
    "bins = Counter(gaps)\n",
    "#print(bins)\n",
    "x, y = zip(*sorted(bins.items(), key=itemgetter(0)))\n",
    "plt.loglog(x, y, 'bo')"
   ]
  },
  {
   "cell_type": "code",
   "execution_count": 63,
   "metadata": {},
   "outputs": [
    {
     "data": {
      "text/plain": [
       "[<matplotlib.lines.Line2D at 0x7f65125cf898>]"
      ]
     },
     "execution_count": 63,
     "metadata": {},
     "output_type": "execute_result"
    },
    {
     "data": {
      "image/png": "[encoded data removed]",
      "text/plain": [
       "<Figure size 432x288 with 1 Axes>"
      ]
     },
     "metadata": {
      "needs_background": "light"
     },
     "output_type": "display_data"
    }
   ],
   "source": [
    "plt.plot(gaps)"
   ]
  },
  {
   "cell_type": "code",
   "execution_count": 84,
   "metadata": {},
   "outputs": [
    {
     "data": {
      "image/png": "[encoded data removed]",
      "text/plain": [
       "<Figure size 432x288 with 1 Axes>"
      ]
     },
     "metadata": {
      "needs_background": "light"
     },
     "output_type": "display_data"
    }
   ],
   "source": [
    "begin_t = data1_loc['Time'][0]\n",
    "prev_ts = 0\n",
    "for t in data1_loc['Time']:\n",
    "    ts = t - begin_t\n",
    "    plt.plot(np.array([ts, ts])/3600., [0, ts-prev_ts], 'b')\n",
    "    prev_ts = ts"
   ]
  },
  {
   "cell_type": "code",
   "execution_count": 85,
   "metadata": {},
   "outputs": [
    {
     "data": {
      "image/png": "[encoded data removed]",
      "text/plain": [
       "<Figure size 432x288 with 1 Axes>"
      ]
     },
     "metadata": {
      "needs_background": "light"
     },
     "output_type": "display_data"
    }
   ],
   "source": [
    "begin_t = data1_loc['Time'][0]\n",
    "prev_ts = 0\n",
    "for t in data1_loc['Time']:\n",
    "    ts = t - begin_t\n",
    "    if ts<100*3600.:\n",
    "        plt.plot(np.array([ts, ts])/3600., [0, ts-prev_ts], 'b')\n",
    "        prev_ts = ts"
   ]
  },
  {
   "cell_type": "code",
   "execution_count": 97,
   "metadata": {},
   "outputs": [
    {
     "data": {
      "image/png": "[encoded data removed]",
      "text/plain": [
       "<Figure size 432x288 with 1 Axes>"
      ]
     },
     "metadata": {
      "needs_background": "light"
     },
     "output_type": "display_data"
    }
   ],
   "source": [
    "begin_t = data1_loc['Time'][0]\n",
    "prev_ts = 0\n",
    "for t in data1_loc['Time']:\n",
    "    ts = t - begin_t\n",
    "    if ts<20*3600. and ts>0*3600.:\n",
    "        plt.plot(np.array([ts, ts])/3600., [0, ts-prev_ts], 'b')\n",
    "    prev_ts = ts"
   ]
  },
  {
   "cell_type": "code",
   "execution_count": 77,
   "metadata": {},
   "outputs": [
    {
     "name": "stdout",
     "output_type": "stream",
     "text": [
      "Number of seconds spanned: 2723267\n",
      "Number of hours spanned: 756.4630555555556\n"
     ]
    }
   ],
   "source": [
    "num_sec_spanned = data1_loc['Time'].values[-1]-data1_loc['Time'].values[0]\n",
    "print('Number of seconds spanned:', num_sec_spanned)\n",
    "print('Number of hours spanned:', num_sec_spanned/3600.)"
   ]
  }
 ],
 "metadata": {
  "kernelspec": {
   "display_name": ".venv",
   "language": "python",
   "name": ".venv"
  },
  "language_info": {
   "codemirror_mode": {
    "name": "ipython",
    "version": 3
   },
   "file_extension": ".py",
   "mimetype": "text/x-python",
   "name": "python",
   "nbconvert_exporter": "python",
   "pygments_lexer": "ipython3",
   "version": "3.6.5"
  }
 },
 "nbformat": 4,
 "nbformat_minor": 4
}
